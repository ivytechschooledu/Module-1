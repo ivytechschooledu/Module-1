{
 "cells": [
  {
   "cell_type": "code",
   "execution_count": null,
   "id": "0861d53c-83ec-4a2e-8b60-baf18a0acf99",
   "metadata": {},
   "outputs": [
    {
     "name": "stdin",
     "output_type": "stream",
     "text": [
      "please enter last name (or 'ZZZ' to quit):  greg\n",
      "please enter first name:  timmy\n"
     ]
    }
   ],
   "source": [
    "#Keihera\n",
    "#Your Student Status app\n",
    "#This app will accept student names and GPAs and test if the student qualifies for either the Dean's List or the Honor Roll\n",
    "\n",
    "\n",
    "def qualify_student():\n",
    "    while True:\n",
    "        last_name = input(\"please enter last name (or 'ZZZ' to quit): \")\n",
    "        if last_name == 'ZZZ':\n",
    "            break\n",
    "\n",
    "        first_name = input(\"please enter first name: \")\n",
    "        try:\n",
    "            gpa = float(input(\"please enter GPA: \"))\n",
    "        except ValueError:\n",
    "            print(\"Invalid GPA. Please enter a number.\")\n",
    "            continue\n",
    "\n",
    "        if gpa >= 3.5:\n",
    "            print(f\"{first_name} {last_name} has made the Dean's List!\")\n",
    "        elif gpa >= 3.25:\n",
    "            print(f\"{first_name} {last_name} has made the Honor Roll\")\n",
    "        else:\n",
    "            print(f\"{first_name} {last_name} does not qualify for Dean's List or Honor Roll.\")\n",
    "\n",
    "qualify_student()"
   ]
  },
  {
   "cell_type": "code",
   "execution_count": null,
   "id": "846e1a47-7d32-40ad-ba6e-8c4b4066a4f8",
   "metadata": {},
   "outputs": [],
   "source": []
  }
 ],
 "metadata": {
  "kernelspec": {
   "display_name": "Python [conda env:base] *",
   "language": "python",
   "name": "conda-base-py"
  },
  "language_info": {
   "codemirror_mode": {
    "name": "ipython",
    "version": 3
   },
   "file_extension": ".py",
   "mimetype": "text/x-python",
   "name": "python",
   "nbconvert_exporter": "python",
   "pygments_lexer": "ipython3",
   "version": "3.12.7"
  }
 },
 "nbformat": 4,
 "nbformat_minor": 5
}
