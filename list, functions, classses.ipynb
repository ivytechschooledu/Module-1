#Keihera
#Create your car
{
 "cells": [
  {
   "cell_type": "code",
   "execution_count": 10,
   "id": "72847422-169e-4473-973c-5234b2ddb4ec",
   "metadata": {},
   "outputs": [
    {
     "name": "stdin",
     "output_type": "stream",
     "text": [
      "Enter the year:  2012\n",
      "Enter the make:  ford\n",
      "Enter the model:  explorer\n",
      "Enter number of doors (2 or 4):  4\n",
      "Enter type of roof (solid or sun roof):  sun\n"
     ]
    }
   ],
   "source": [
    "class Vehicle:\n",
    "    def __init__(self, vehicle_type):\n",
    "        self.vehicle_type = vehicle_type\n",
    "\n",
    "class Automobile(Vehicle):\n",
    "    def __init__(self, vehicle_type, year, make, model, doors, roof):\n",
    "        super().__init__(vehicle_type)\n",
    "        self.year = year\n",
    "        self.make = make\n",
    "        self.model = model\n",
    "        self.doors = doors\n",
    "        self.roof = roof\n",
    "\n",
    "    def create_car():\n",
    "        vehicle_type = \"car\"\n",
    "        year = input(\"Enter the year: \")\n",
    "        make = input(\"Enter the make: \")\n",
    "        model = input(\"Enter the model: \")\n",
    "        doors = input(\"Enter number of doors (2 or 4): \")\n",
    "        roof = input(\"Enter type of roof (solid or sun roof): \")\n",
    "        car = Automobile(vehicle_type, year, make, model, doors, roof)\n",
    "        return car\n",
    "\n",
    "    def display_car_info(car):\n",
    "        print(\"Vehicle type:\", car.vehicle_type)\n",
    "        print(\"Year:\", car.year)\n",
    "        print(\"Make:\", car.make)\n",
    "        print(\"Model:\", car.model)\n",
    "        print(\"Number of doors:\", car.doors)\n",
    "        print(\"Type of roof:\", car.roof)\n",
    "\n",
    "\n",
    "\n",
    "car = Automobile.create_car()\n"
   ]
  },
  {
   "cell_type": "code",
   "execution_count": null,
   "id": "10b6d2d3-cbf2-4532-a50c-ca8d51037cf9",
   "metadata": {},
   "outputs": [],
   "source": []
  },
  {
   "cell_type": "code",
   "execution_count": null,
   "id": "be4f6bdd-7726-4044-abdf-ad18efb866a3",
   "metadata": {},
   "outputs": [],
   "source": []
  }
 ],
 "metadata": {
  "kernelspec": {
   "display_name": "Python [conda env:base] *",
   "language": "python",
   "name": "conda-base-py"
  },
  "language_info": {
   "codemirror_mode": {
    "name": "ipython",
    "version": 3
   },
   "file_extension": ".py",
   "mimetype": "text/x-python",
   "name": "python",
   "nbconvert_exporter": "python",
   "pygments_lexer": "ipython3",
   "version": "3.12.7"
  }
 },
 "nbformat": 4,
 "nbformat_minor": 5
}
