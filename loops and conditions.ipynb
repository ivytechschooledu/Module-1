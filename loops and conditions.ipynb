{
 "cells": [
  {
   "cell_type": "code",
   "execution_count": 1,
   "id": "6b466716-b2e5-4174-b234-5b133143ac54",
   "metadata": {},
   "outputs": [],
   "source": [
    "secret = 7\n",
    "guess = 5"
   ]
  },
  {
   "cell_type": "code",
   "execution_count": 2,
   "id": "5bc8583e-96dd-470b-81b9-547fc1f29d27",
   "metadata": {},
   "outputs": [
    {
     "name": "stdout",
     "output_type": "stream",
     "text": [
      "too low\n"
     ]
    }
   ],
   "source": [
    "if guess < secret:\n",
    "    print(\"too low\")\n",
    "elif guess > secret:\n",
    "    print(\"too high\")\n",
    "else:\n",
    "    print(\"just right\")"
   ]
  },
  {
   "cell_type": "code",
   "execution_count": null,
   "id": "743851a6-92d1-4560-8975-5ced7a5cee25",
   "metadata": {},
   "outputs": [],
   "source": [
    "small = True\n",
    "green = True"
   ]
  },
  {
   "cell_type": "code",
   "execution_count": 5,
   "id": "cf669a76-c35b-45a4-8b98-a0cccbc663ea",
   "metadata": {},
   "outputs": [
    {
     "name": "stdin",
     "output_type": "stream",
     "text": [
      "please enter fruit:  pea\n"
     ]
    }
   ],
   "source": [
    "fruit = input(\"please enter fruit: \")"
   ]
  },
  {
   "cell_type": "code",
   "execution_count": 6,
   "id": "bba40294-4535-4454-bb1c-c769009b5c85",
   "metadata": {},
   "outputs": [
    {
     "name": "stdout",
     "output_type": "stream",
     "text": [
      "The fruit is small and green\n"
     ]
    }
   ],
   "source": [
    "if fruit == \"pea\":\n",
    "    print(\"The fruit is small and green\")\n",
    "elif fruit == \"watermelon\":\n",
    "    print(\"the fruit is large and green\")\n",
    "elif fruit == \"cherry\":\n",
    "    print(\"the fruit is small and red\")\n",
    "else:\n",
    "    print(\"the fruit is large and and orange\")"
   ]
  },
  {
   "cell_type": "code",
   "execution_count": 7,
   "id": "fb616152-fabf-4b07-aa91-d7107bf4b727",
   "metadata": {},
   "outputs": [],
   "source": [
    "number_list = [3, 2, 1, 0]"
   ]
  },
  {
   "cell_type": "code",
   "execution_count": 9,
   "id": "3daf3966-8b6b-4c86-a30a-0f1b995db71a",
   "metadata": {},
   "outputs": [
    {
     "name": "stdout",
     "output_type": "stream",
     "text": [
      "too low\n",
      "too low\n",
      "too low\n",
      "too low\n",
      "too low\n",
      "too low\n",
      "found it\n"
     ]
    }
   ],
   "source": [
    "guess_me = 7\n",
    "number = 1\n",
    "\n",
    "while True:\n",
    "    if number < guess_me:\n",
    "        print(\"too low\")\n",
    "    elif number == guess_me:\n",
    "        print(\"found it\")\n",
    "        break\n",
    "    else:\n",
    "        print(\"oops\")\n",
    "        break\n",
    "    number += 1\n",
    "        \n",
    "        "
   ]
  },
  {
   "cell_type": "code",
   "execution_count": 10,
   "id": "5bf90776-996a-4909-9018-6bedec1724e6",
   "metadata": {},
   "outputs": [
    {
     "name": "stdout",
     "output_type": "stream",
     "text": [
      "too low\n",
      "too low\n",
      "too low\n",
      "too low\n",
      "too low\n",
      "found it\n"
     ]
    }
   ],
   "source": [
    "guess_me = 5\n",
    "for number in range (10):\n",
    "    if number < guess_me:\n",
    "        print(\"too low\")\n",
    "    elif number == guess_me:\n",
    "        print(\"found it\")\n",
    "        break\n",
    "    else:\n",
    "        print(\"oops\")\n",
    "        break"
   ]
  },
  {
   "cell_type": "code",
   "execution_count": null,
   "id": "e7c64c09-151c-4260-8386-a9949a1ed2e8",
   "metadata": {},
   "outputs": [],
   "source": []
  }
 ],
 "metadata": {
  "kernelspec": {
   "display_name": "Python [conda env:base] *",
   "language": "python",
   "name": "conda-base-py"
  },
  "language_info": {
   "codemirror_mode": {
    "name": "ipython",
    "version": 3
   },
   "file_extension": ".py",
   "mimetype": "text/x-python",
   "name": "python",
   "nbconvert_exporter": "python",
   "pygments_lexer": "ipython3",
   "version": "3.12.7"
  }
 },
 "nbformat": 4,
 "nbformat_minor": 5
}
